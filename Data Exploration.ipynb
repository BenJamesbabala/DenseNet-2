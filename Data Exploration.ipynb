{
 "cells": [
  {
   "cell_type": "code",
   "execution_count": 1,
   "metadata": {},
   "outputs": [],
   "source": [
    "import torch\n",
    "\n",
    "from config import get_config\n",
    "from data_loader import *\n",
    "from utils import prepare_dirs, save_config\n",
    "from torch.autograd import Variable\n",
    "from model import DenseNet\n",
    "import torch.nn as nn\n",
    "\n",
    "# for reloading modules\n",
    "%load_ext autoreload\n",
    "%autoreload 2"
   ]
  },
  {
   "cell_type": "code",
   "execution_count": 2,
   "metadata": {
    "collapsed": true
   },
   "outputs": [],
   "source": [
    "config, unparsed = get_config()"
   ]
  },
  {
   "cell_type": "code",
   "execution_count": 3,
   "metadata": {},
   "outputs": [
    {
     "name": "stdout",
     "output_type": "stream",
     "text": [
      "Files already downloaded and verified\n",
      "Files already downloaded and verified\n"
     ]
    }
   ],
   "source": [
    "kwargs = {}\n",
    "data_loader = get_train_valid_loader(config.data_dir,\n",
    "            config.batch_size, config.augment, config.random_seed,\n",
    "            config.valid_size, config.shuffle, config.show_sample,\n",
    "            **kwargs)"
   ]
  },
  {
   "cell_type": "code",
   "execution_count": 4,
   "metadata": {
    "collapsed": true
   },
   "outputs": [],
   "source": [
    "train_loader = data_loader[0]\n",
    "valid_loader = data_loader[0]"
   ]
  },
  {
   "cell_type": "code",
   "execution_count": 5,
   "metadata": {
    "collapsed": true
   },
   "outputs": [],
   "source": [
    "num_blocks = config.num_blocks\n",
    "num_layers_total = config.num_layers_total\n",
    "growth_rate = config.growth_rate\n",
    "bottleneck = config.bottleneck\n",
    "theta = config.compression\n",
    "dropout_rate = config.dropout_rate"
   ]
  },
  {
   "cell_type": "code",
   "execution_count": 6,
   "metadata": {
    "collapsed": true
   },
   "outputs": [],
   "source": [
    "epochs = config.epochs\n",
    "lr = config.lr\n",
    "momentum = config.momentum\n",
    "weight_decay = config.weight_decay"
   ]
  },
  {
   "cell_type": "code",
   "execution_count": 7,
   "metadata": {},
   "outputs": [
    {
     "name": "stdout",
     "output_type": "stream",
     "text": [
      "After Conv1: 16\n",
      "\tLayer 1 Input Channels: 16\n",
      "\tLayer 2 Input Channels: 28\n",
      "\tLayer 3 Input Channels: 40\n",
      "\tLayer 4 Input Channels: 52\n",
      "\tLayer 5 Input Channels: 64\n",
      "\tLayer 6 Input Channels: 76\n",
      "\tLayer 7 Input Channels: 88\n",
      "\tLayer 8 Input Channels: 100\n",
      "\tLayer 9 Input Channels: 112\n",
      "\tLayer 10 Input Channels: 124\n",
      "\tLayer 11 Input Channels: 136\n",
      "\tLayer 12 Input Channels: 148\n",
      "After Dense Block 1: 160\n",
      "After Transition Layer 1: 160\n",
      "\tLayer 1 Input Channels: 160\n",
      "\tLayer 2 Input Channels: 172\n",
      "\tLayer 3 Input Channels: 184\n",
      "\tLayer 4 Input Channels: 196\n",
      "\tLayer 5 Input Channels: 208\n",
      "\tLayer 6 Input Channels: 220\n",
      "\tLayer 7 Input Channels: 232\n",
      "\tLayer 8 Input Channels: 244\n",
      "\tLayer 9 Input Channels: 256\n",
      "\tLayer 10 Input Channels: 268\n",
      "\tLayer 11 Input Channels: 280\n",
      "\tLayer 12 Input Channels: 292\n",
      "After Dense Block 2: 304\n",
      "After Transition Layer 2: 304\n",
      "\tLayer 1 Input Channels: 304\n",
      "\tLayer 2 Input Channels: 316\n",
      "\tLayer 3 Input Channels: 328\n",
      "\tLayer 4 Input Channels: 340\n",
      "\tLayer 5 Input Channels: 352\n",
      "\tLayer 6 Input Channels: 364\n",
      "\tLayer 7 Input Channels: 376\n",
      "\tLayer 8 Input Channels: 388\n",
      "\tLayer 9 Input Channels: 400\n",
      "\tLayer 10 Input Channels: 412\n",
      "\tLayer 11 Input Channels: 424\n",
      "\tLayer 12 Input Channels: 436\n"
     ]
    }
   ],
   "source": [
    "model = DenseNet(num_blocks, \n",
    "                 num_layers_total,\n",
    "                 growth_rate, \n",
    "                 10, \n",
    "                 bottleneck, \n",
    "                 dropout_rate, \n",
    "                 theta)"
   ]
  },
  {
   "cell_type": "code",
   "execution_count": 8,
   "metadata": {},
   "outputs": [
    {
     "name": "stdout",
     "output_type": "stream",
     "text": [
      "Number of model parameters: 1,018,826\n"
     ]
    }
   ],
   "source": [
    "print('Number of model parameters: {:,}'.format(\n",
    "            sum([p.data.nelement() for p in model.parameters()])))"
   ]
  },
  {
   "cell_type": "code",
   "execution_count": 9,
   "metadata": {},
   "outputs": [],
   "source": [
    "data_iter = iter(train_loader)\n",
    "image, target = data_iter.next()"
   ]
  },
  {
   "cell_type": "code",
   "execution_count": 10,
   "metadata": {
    "collapsed": true
   },
   "outputs": [],
   "source": [
    "input_var = torch.autograd.Variable(image)\n",
    "target_var = torch.autograd.Variable(target)"
   ]
  },
  {
   "cell_type": "code",
   "execution_count": 11,
   "metadata": {},
   "outputs": [
    {
     "name": "stdout",
     "output_type": "stream",
     "text": [
      "Before Pool: torch.Size([64, 448, 8, 8])\n",
      "After Pool: torch.Size([64, 448, 1, 1])\n",
      "Before Flatten: torch.Size([64, 448])\n",
      "After FC: torch.Size([64, 10])\n"
     ]
    }
   ],
   "source": [
    "output = model(input_var)"
   ]
  },
  {
   "cell_type": "code",
   "execution_count": 12,
   "metadata": {},
   "outputs": [],
   "source": [
    "criterion = nn.CrossEntropyLoss()\n",
    "optimizer = torch.optim.SGD(model.parameters(), lr,\n",
    "                                momentum=momentum, weight_decay=weight_decay)"
   ]
  },
  {
   "cell_type": "code",
   "execution_count": 13,
   "metadata": {},
   "outputs": [],
   "source": [
    "loss = criterion(output, target_var)\n",
    "# acc = accuracy(output, target)"
   ]
  },
  {
   "cell_type": "code",
   "execution_count": 16,
   "metadata": {},
   "outputs": [
    {
     "name": "stdout",
     "output_type": "stream",
     "text": [
      "Accuracy: 9.375\n"
     ]
    }
   ],
   "source": [
    "predicted = torch.max(output.data, 1)[1]\n",
    "total = len(target)\n",
    "correct = (predicted == target).sum()\n",
    "acc = 100 * (correct / total)\n",
    "print(\"Accuracy: {}\".format(acc))"
   ]
  },
  {
   "cell_type": "code",
   "execution_count": 24,
   "metadata": {},
   "outputs": [
    {
     "data": {
      "text/plain": [
       "2.4496960639953613"
      ]
     },
     "execution_count": 24,
     "metadata": {},
     "output_type": "execute_result"
    }
   ],
   "source": [
    "loss.data[0]"
   ]
  },
  {
   "cell_type": "code",
   "execution_count": 21,
   "metadata": {
    "collapsed": true
   },
   "outputs": [],
   "source": [
    "def accuracy(predicted, ground_truth):\n",
    "    \"\"\"\n",
    "    Params\n",
    "    ------\n",
    "    - predicted: torch.FloatTensor\n",
    "    - ground_truth: torch.LongTensor\n",
    "    \"\"\"\n",
    "    predicted = torch.max(predicted.data, 1)[1]\n",
    "    total = len(ground_truth)\n",
    "    correct = (predicted == ground_truth).sum()\n",
    "    acc = 100 * (correct / total)\n",
    "    return acc"
   ]
  },
  {
   "cell_type": "code",
   "execution_count": null,
   "metadata": {
    "collapsed": true
   },
   "outputs": [],
   "source": []
  }
 ],
 "metadata": {
  "kernelspec": {
   "display_name": "Python 3",
   "language": "python",
   "name": "python3"
  },
  "language_info": {
   "codemirror_mode": {
    "name": "ipython",
    "version": 3
   },
   "file_extension": ".py",
   "mimetype": "text/x-python",
   "name": "python",
   "nbconvert_exporter": "python",
   "pygments_lexer": "ipython3",
   "version": "3.6.1"
  }
 },
 "nbformat": 4,
 "nbformat_minor": 2
}
